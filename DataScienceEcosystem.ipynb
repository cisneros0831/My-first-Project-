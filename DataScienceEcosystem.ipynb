{
 "cells": [
  {
   "cell_type": "markdown",
   "id": "a2367daf-ec5f-40b3-a09c-919d741a3c2d",
   "metadata": {},
   "source": [
    "# Data Science Tools and Ecosystem #"
   ]
  },
  {
   "cell_type": "markdown",
   "id": "970c226e-42f9-442b-a4a5-96a5e5dc4c84",
   "metadata": {},
   "source": [
    "In this notebook, Data Science Tools and ecosystems are summarized."
   ]
  },
  {
   "cell_type": "markdown",
   "id": "fec63ff8-85b8-4bbd-8e74-45d74c15c52a",
   "metadata": {},
   "source": [
    "**Objectives:**\n",
    "- List Popular tools in Data Science\n",
    "- The most common Programming lenguages in Data Science\n",
    "- Math operations with Pyhton Code "
   ]
  },
  {
   "cell_type": "markdown",
   "id": "f30157be-40e6-4f37-bb17-da4cd2e4a44f",
   "metadata": {},
   "source": [
    "**Some of the popular lenguages are:**"
   ]
  },
  {
   "cell_type": "markdown",
   "id": "9c52a1ad-809c-4c8e-9570-db4e832ae78b",
   "metadata": {},
   "source": [
    "1. Pyhton\n",
    "2. R\n",
    "3. SQL"
   ]
  },
  {
   "cell_type": "markdown",
   "id": "58d311f3-f6cb-4d92-92d0-e842eaca7567",
   "metadata": {},
   "source": [
    "**Some of the commonly used libraries used by Data Scientists include**"
   ]
  },
  {
   "cell_type": "markdown",
   "id": "292ea6fe-29f9-4fab-af66-503acd73a947",
   "metadata": {},
   "source": [
    "1. Pandas \n",
    "2. Numpy \n",
    "3. Scikit-learn"
   ]
  },
  {
   "cell_type": "markdown",
   "id": "171e68f6-2559-4e71-aa55-5c41f4a546d0",
   "metadata": {},
   "source": [
    "|Data Science Tools|\n",
    "|------------------|\n",
    "| Jupyter Notebooks\n",
    "| RStudio|\n",
    "|Apache Zeppelin |"
   ]
  },
  {
   "cell_type": "markdown",
   "id": "fb97f43d-73db-4f11-8d2b-55abda189c1f",
   "metadata": {},
   "source": [
    "### Below are a few examples of evaluating arithmetic expressions in Python."
   ]
  },
  {
   "cell_type": "code",
   "execution_count": 56,
   "id": "030576e3-e0c8-4f47-a4cd-529dad58e63a",
   "metadata": {},
   "outputs": [
    {
     "data": {
      "text/plain": [
       "17"
      ]
     },
     "execution_count": 56,
     "metadata": {},
     "output_type": "execute_result"
    }
   ],
   "source": [
    "#This a simple arithmetic expression to mutiply then add integers\n",
    "(3*4)+5"
   ]
  },
  {
   "cell_type": "code",
   "execution_count": 60,
   "id": "028661f8-e74c-4302-a776-2d967b206660",
   "metadata": {},
   "outputs": [
    {
     "data": {
      "text/plain": [
       "3.3333333333333335"
      ]
     },
     "execution_count": 60,
     "metadata": {},
     "output_type": "execute_result"
    }
   ],
   "source": [
    "#This will convert 200 minutes to hours by diving by 60\n",
    "minutes = 200\n",
    "hours = minutes / 60\n",
    "hours"
   ]
  },
  {
   "cell_type": "markdown",
   "id": "d7f12b19-d281-4470-8285-aebe1c2ba1a4",
   "metadata": {},
   "source": [
    "## Author ## \n",
    "Jose Cisneros "
   ]
  },
  {
   "cell_type": "code",
   "execution_count": null,
   "id": "566d7afa-232d-4f03-8e3e-c355ba18fea6",
   "metadata": {},
   "outputs": [],
   "source": []
  }
 ],
 "metadata": {
  "kernelspec": {
   "display_name": "Python [conda env:base] *",
   "language": "python",
   "name": "conda-base-py"
  },
  "language_info": {
   "codemirror_mode": {
    "name": "ipython",
    "version": 3
   },
   "file_extension": ".py",
   "mimetype": "text/x-python",
   "name": "python",
   "nbconvert_exporter": "python",
   "pygments_lexer": "ipython3",
   "version": "3.12.7"
  }
 },
 "nbformat": 4,
 "nbformat_minor": 5
}
